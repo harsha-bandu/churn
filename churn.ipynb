{
 "cells": [
  {
   "cell_type": "code",
   "execution_count": 1,
   "metadata": {},
   "outputs": [],
   "source": [
    "import pandas as pd\n",
    "import numpy as np\n",
    "\n"
   ]
  },
  {
   "cell_type": "code",
   "execution_count": 2,
   "metadata": {},
   "outputs": [],
   "source": [
    "data = pd.read_excel(r'CHURNDATA.xlsx')"
   ]
  },
  {
   "cell_type": "code",
   "execution_count": 3,
   "metadata": {},
   "outputs": [
    {
     "data": {
      "text/html": [
       "<div>\n",
       "<style scoped>\n",
       "    .dataframe tbody tr th:only-of-type {\n",
       "        vertical-align: middle;\n",
       "    }\n",
       "\n",
       "    .dataframe tbody tr th {\n",
       "        vertical-align: top;\n",
       "    }\n",
       "\n",
       "    .dataframe thead th {\n",
       "        text-align: right;\n",
       "    }\n",
       "</style>\n",
       "<table border=\"1\" class=\"dataframe\">\n",
       "  <thead>\n",
       "    <tr style=\"text-align: right;\">\n",
       "      <th></th>\n",
       "      <th>CIF</th>\n",
       "      <th>CUS_DOB</th>\n",
       "      <th>AGE</th>\n",
       "      <th>CUS_Month_Income</th>\n",
       "      <th>CUS_Gender</th>\n",
       "      <th>CUS_Marital_Status</th>\n",
       "      <th>CUS_Customer_Since</th>\n",
       "      <th>YEARS_WITH_US</th>\n",
       "      <th># total debit transactions for S1</th>\n",
       "      <th># total debit transactions for S2</th>\n",
       "      <th>...</th>\n",
       "      <th>total credit amount for S2</th>\n",
       "      <th>total credit amount for S3</th>\n",
       "      <th>total debit amount</th>\n",
       "      <th>total debit transactions</th>\n",
       "      <th>total credit amount</th>\n",
       "      <th>total credit transactions</th>\n",
       "      <th>total transactions</th>\n",
       "      <th>CUS_Target</th>\n",
       "      <th>TAR_Desc</th>\n",
       "      <th>Status</th>\n",
       "    </tr>\n",
       "  </thead>\n",
       "  <tbody>\n",
       "    <tr>\n",
       "      <td>0</td>\n",
       "      <td>XXXXXX</td>\n",
       "      <td>Feb 13 1970 12:00AM</td>\n",
       "      <td>49</td>\n",
       "      <td>7116.64</td>\n",
       "      <td>MALE</td>\n",
       "      <td>MARRIED</td>\n",
       "      <td>1994-06-30</td>\n",
       "      <td>25</td>\n",
       "      <td>277</td>\n",
       "      <td>265</td>\n",
       "      <td>...</td>\n",
       "      <td>1764079.61</td>\n",
       "      <td>2378592.62</td>\n",
       "      <td>4758311.63</td>\n",
       "      <td>887</td>\n",
       "      <td>5659653.33</td>\n",
       "      <td>65</td>\n",
       "      <td>952</td>\n",
       "      <td>2231</td>\n",
       "      <td>EXECUTIVE</td>\n",
       "      <td>ACTIVE</td>\n",
       "    </tr>\n",
       "    <tr>\n",
       "      <td>1</td>\n",
       "      <td>XXXXXX</td>\n",
       "      <td>Sep 20 1973 12:00AM</td>\n",
       "      <td>46</td>\n",
       "      <td>1500000.00</td>\n",
       "      <td>FEMALE</td>\n",
       "      <td>SINGLE</td>\n",
       "      <td>2005-05-19</td>\n",
       "      <td>14</td>\n",
       "      <td>37</td>\n",
       "      <td>15</td>\n",
       "      <td>...</td>\n",
       "      <td>19500.00</td>\n",
       "      <td>57500.00</td>\n",
       "      <td>139363.22</td>\n",
       "      <td>97</td>\n",
       "      <td>87000.00</td>\n",
       "      <td>10</td>\n",
       "      <td>107</td>\n",
       "      <td>2223</td>\n",
       "      <td>LOW</td>\n",
       "      <td>ACTIVE</td>\n",
       "    </tr>\n",
       "    <tr>\n",
       "      <td>2</td>\n",
       "      <td>XXXXXX</td>\n",
       "      <td>Jul 18 1966 12:00AM</td>\n",
       "      <td>53</td>\n",
       "      <td>5000000.00</td>\n",
       "      <td>FEMALE</td>\n",
       "      <td>SINGLE</td>\n",
       "      <td>2005-05-20</td>\n",
       "      <td>14</td>\n",
       "      <td>31</td>\n",
       "      <td>14</td>\n",
       "      <td>...</td>\n",
       "      <td>240311.84</td>\n",
       "      <td>70946.86</td>\n",
       "      <td>37375.46</td>\n",
       "      <td>53</td>\n",
       "      <td>1020883.70</td>\n",
       "      <td>27</td>\n",
       "      <td>80</td>\n",
       "      <td>2222</td>\n",
       "      <td>MIDLE</td>\n",
       "      <td>ACTIVE</td>\n",
       "    </tr>\n",
       "    <tr>\n",
       "      <td>3</td>\n",
       "      <td>XXXXXX</td>\n",
       "      <td>Jan  9 2004 12:00AM</td>\n",
       "      <td>15</td>\n",
       "      <td>500.00</td>\n",
       "      <td>FEMALE</td>\n",
       "      <td>SINGLE</td>\n",
       "      <td>2005-05-20</td>\n",
       "      <td>14</td>\n",
       "      <td>0</td>\n",
       "      <td>1</td>\n",
       "      <td>...</td>\n",
       "      <td>28089.99</td>\n",
       "      <td>18753.92</td>\n",
       "      <td>4000.00</td>\n",
       "      <td>1</td>\n",
       "      <td>76946.96</td>\n",
       "      <td>12</td>\n",
       "      <td>13</td>\n",
       "      <td>2223</td>\n",
       "      <td>LOW</td>\n",
       "      <td>ACTIVE</td>\n",
       "    </tr>\n",
       "    <tr>\n",
       "      <td>4</td>\n",
       "      <td>XXXXXX</td>\n",
       "      <td>Mar  7 1971 12:00AM</td>\n",
       "      <td>48</td>\n",
       "      <td>9000000.00</td>\n",
       "      <td>FEMALE</td>\n",
       "      <td>SINGLE</td>\n",
       "      <td>2014-06-30</td>\n",
       "      <td>5</td>\n",
       "      <td>15</td>\n",
       "      <td>33</td>\n",
       "      <td>...</td>\n",
       "      <td>176000.00</td>\n",
       "      <td>70500.00</td>\n",
       "      <td>338470.29</td>\n",
       "      <td>60</td>\n",
       "      <td>442100.00</td>\n",
       "      <td>21</td>\n",
       "      <td>81</td>\n",
       "      <td>2223</td>\n",
       "      <td>LOW</td>\n",
       "      <td>ACTIVE</td>\n",
       "    </tr>\n",
       "  </tbody>\n",
       "</table>\n",
       "<p>5 rows × 28 columns</p>\n",
       "</div>"
      ],
      "text/plain": [
       "      CIF              CUS_DOB  AGE  CUS_Month_Income CUS_Gender  \\\n",
       "0  XXXXXX  Feb 13 1970 12:00AM   49           7116.64       MALE   \n",
       "1  XXXXXX  Sep 20 1973 12:00AM   46        1500000.00     FEMALE   \n",
       "2  XXXXXX  Jul 18 1966 12:00AM   53        5000000.00     FEMALE   \n",
       "3  XXXXXX  Jan  9 2004 12:00AM   15            500.00     FEMALE   \n",
       "4  XXXXXX  Mar  7 1971 12:00AM   48        9000000.00     FEMALE   \n",
       "\n",
       "  CUS_Marital_Status CUS_Customer_Since  YEARS_WITH_US  \\\n",
       "0            MARRIED         1994-06-30             25   \n",
       "1             SINGLE         2005-05-19             14   \n",
       "2             SINGLE         2005-05-20             14   \n",
       "3             SINGLE         2005-05-20             14   \n",
       "4             SINGLE         2014-06-30              5   \n",
       "\n",
       "   # total debit transactions for S1  # total debit transactions for S2  ...  \\\n",
       "0                                277                                265  ...   \n",
       "1                                 37                                 15  ...   \n",
       "2                                 31                                 14  ...   \n",
       "3                                  0                                  1  ...   \n",
       "4                                 15                                 33  ...   \n",
       "\n",
       "   total credit amount for S2  total credit amount for S3  total debit amount  \\\n",
       "0                  1764079.61                  2378592.62          4758311.63   \n",
       "1                    19500.00                    57500.00           139363.22   \n",
       "2                   240311.84                    70946.86            37375.46   \n",
       "3                    28089.99                    18753.92             4000.00   \n",
       "4                   176000.00                    70500.00           338470.29   \n",
       "\n",
       "   total debit transactions  total credit amount  total credit transactions  \\\n",
       "0                       887           5659653.33                         65   \n",
       "1                        97             87000.00                         10   \n",
       "2                        53           1020883.70                         27   \n",
       "3                         1             76946.96                         12   \n",
       "4                        60            442100.00                         21   \n",
       "\n",
       "   total transactions  CUS_Target   TAR_Desc  Status  \n",
       "0                 952        2231  EXECUTIVE  ACTIVE  \n",
       "1                 107        2223        LOW  ACTIVE  \n",
       "2                  80        2222      MIDLE  ACTIVE  \n",
       "3                  13        2223        LOW  ACTIVE  \n",
       "4                  81        2223        LOW  ACTIVE  \n",
       "\n",
       "[5 rows x 28 columns]"
      ]
     },
     "execution_count": 3,
     "metadata": {},
     "output_type": "execute_result"
    }
   ],
   "source": [
    "data.head()"
   ]
  },
  {
   "cell_type": "code",
   "execution_count": 5,
   "metadata": {},
   "outputs": [],
   "source": [
    "data['CUS_Month_Income'] = data.CUS_Month_Income.fillna(data['CUS_Month_Income'].mean())\n",
    "\n",
    "data['CUS_Gender'] = data['CUS_Gender'].ffill()"
   ]
  },
  {
   "cell_type": "code",
   "execution_count": 6,
   "metadata": {},
   "outputs": [
    {
     "data": {
      "text/plain": [
       "ACTIVE    1022\n",
       "CHURN      227\n",
       "Name: Status, dtype: int64"
      ]
     },
     "execution_count": 6,
     "metadata": {},
     "output_type": "execute_result"
    }
   ],
   "source": [
    "data.head()\n",
    "data['Status'].value_counts()"
   ]
  },
  {
   "cell_type": "code",
   "execution_count": 7,
   "metadata": {},
   "outputs": [],
   "source": [
    "data = data.drop('CIF',axis = 1)\n",
    "data = data.drop('CUS_DOB',axis = 1)\n",
    "data = data.drop('CUS_Target',axis=1)\n",
    "data = data.drop('CUS_Customer_Since',axis = 1)\n",
    "data = data.drop('# total debit transactions for S1',axis = 1)\n",
    "data = data.drop('# total debit transactions for S2',axis = 1)\n",
    "data = data.drop('# total debit transactions for S3',axis = 1)\n",
    "data = data.drop('# total credit transactions for S1',axis = 1)\n",
    "data = data.drop('# total credit transactions for S2',axis = 1)\n",
    "data = data.drop('# total credit transactions for S3',axis = 1)\n",
    "data = data.drop('total debit amount for S1',axis = 1)\n",
    "data = data.drop('total debit amount for S2',axis = 1)\n",
    "data = data.drop('total debit amount for S3',axis = 1)\n",
    "data = data.drop('total credit amount for S1',axis = 1)\n",
    "data = data.drop('total credit amount for S2',axis = 1)\n",
    "data = data.drop('total credit amount for S3',axis = 1)\n",
    "data = data.drop('total transactions',axis = 1)"
   ]
  },
  {
   "cell_type": "code",
   "execution_count": 8,
   "metadata": {
    "scrolled": true
   },
   "outputs": [
    {
     "data": {
      "text/plain": [
       "Index(['AGE', 'CUS_Month_Income', 'CUS_Gender', 'CUS_Marital_Status',\n",
       "       'YEARS_WITH_US', 'total debit amount', 'total debit transactions',\n",
       "       'total credit amount', 'total credit transactions', 'TAR_Desc',\n",
       "       'Status'],\n",
       "      dtype='object')"
      ]
     },
     "execution_count": 8,
     "metadata": {},
     "output_type": "execute_result"
    }
   ],
   "source": [
    "data.columns"
   ]
  },
  {
   "cell_type": "code",
   "execution_count": 9,
   "metadata": {},
   "outputs": [],
   "source": [
    "from sklearn.preprocessing import LabelEncoder\n",
    "label = LabelEncoder()\n",
    "data['CUS_Gender'] = label.fit_transform(data['CUS_Gender'])\n",
    "data['CUS_Marital_Status'] = label.fit_transform(data['CUS_Marital_Status'])\n",
    "data['TAR_Desc'] = label.fit_transform(data['TAR_Desc'])\n",
    "data['Status'] = label.fit_transform(data['Status'])\n",
    "#data['CUS_Customer_Since'] = label.fit_transform(data['CUS_Customer_Since'])"
   ]
  },
  {
   "cell_type": "code",
   "execution_count": 10,
   "metadata": {},
   "outputs": [],
   "source": [
    "data.to_excel(r'E:\\ML\\churn\\Uchurn.xlsx')"
   ]
  },
  {
   "cell_type": "code",
   "execution_count": 11,
   "metadata": {},
   "outputs": [
    {
     "data": {
      "text/html": [
       "<div>\n",
       "<style scoped>\n",
       "    .dataframe tbody tr th:only-of-type {\n",
       "        vertical-align: middle;\n",
       "    }\n",
       "\n",
       "    .dataframe tbody tr th {\n",
       "        vertical-align: top;\n",
       "    }\n",
       "\n",
       "    .dataframe thead th {\n",
       "        text-align: right;\n",
       "    }\n",
       "</style>\n",
       "<table border=\"1\" class=\"dataframe\">\n",
       "  <thead>\n",
       "    <tr style=\"text-align: right;\">\n",
       "      <th></th>\n",
       "      <th>AGE</th>\n",
       "      <th>CUS_Month_Income</th>\n",
       "      <th>CUS_Gender</th>\n",
       "      <th>CUS_Marital_Status</th>\n",
       "      <th>YEARS_WITH_US</th>\n",
       "      <th>total debit amount</th>\n",
       "      <th>total debit transactions</th>\n",
       "      <th>total credit amount</th>\n",
       "      <th>total credit transactions</th>\n",
       "      <th>TAR_Desc</th>\n",
       "    </tr>\n",
       "  </thead>\n",
       "  <tbody>\n",
       "    <tr>\n",
       "      <td>0</td>\n",
       "      <td>49</td>\n",
       "      <td>7116.64</td>\n",
       "      <td>1</td>\n",
       "      <td>1</td>\n",
       "      <td>25</td>\n",
       "      <td>4758311.63</td>\n",
       "      <td>887</td>\n",
       "      <td>5659653.33</td>\n",
       "      <td>65</td>\n",
       "      <td>0</td>\n",
       "    </tr>\n",
       "    <tr>\n",
       "      <td>1</td>\n",
       "      <td>46</td>\n",
       "      <td>1500000.00</td>\n",
       "      <td>0</td>\n",
       "      <td>4</td>\n",
       "      <td>14</td>\n",
       "      <td>139363.22</td>\n",
       "      <td>97</td>\n",
       "      <td>87000.00</td>\n",
       "      <td>10</td>\n",
       "      <td>1</td>\n",
       "    </tr>\n",
       "    <tr>\n",
       "      <td>2</td>\n",
       "      <td>53</td>\n",
       "      <td>5000000.00</td>\n",
       "      <td>0</td>\n",
       "      <td>4</td>\n",
       "      <td>14</td>\n",
       "      <td>37375.46</td>\n",
       "      <td>53</td>\n",
       "      <td>1020883.70</td>\n",
       "      <td>27</td>\n",
       "      <td>2</td>\n",
       "    </tr>\n",
       "    <tr>\n",
       "      <td>3</td>\n",
       "      <td>15</td>\n",
       "      <td>500.00</td>\n",
       "      <td>0</td>\n",
       "      <td>4</td>\n",
       "      <td>14</td>\n",
       "      <td>4000.00</td>\n",
       "      <td>1</td>\n",
       "      <td>76946.96</td>\n",
       "      <td>12</td>\n",
       "      <td>1</td>\n",
       "    </tr>\n",
       "    <tr>\n",
       "      <td>4</td>\n",
       "      <td>48</td>\n",
       "      <td>9000000.00</td>\n",
       "      <td>0</td>\n",
       "      <td>4</td>\n",
       "      <td>5</td>\n",
       "      <td>338470.29</td>\n",
       "      <td>60</td>\n",
       "      <td>442100.00</td>\n",
       "      <td>21</td>\n",
       "      <td>1</td>\n",
       "    </tr>\n",
       "  </tbody>\n",
       "</table>\n",
       "</div>"
      ],
      "text/plain": [
       "   AGE  CUS_Month_Income  CUS_Gender  CUS_Marital_Status  YEARS_WITH_US  \\\n",
       "0   49           7116.64           1                   1             25   \n",
       "1   46        1500000.00           0                   4             14   \n",
       "2   53        5000000.00           0                   4             14   \n",
       "3   15            500.00           0                   4             14   \n",
       "4   48        9000000.00           0                   4              5   \n",
       "\n",
       "   total debit amount  total debit transactions  total credit amount  \\\n",
       "0          4758311.63                       887           5659653.33   \n",
       "1           139363.22                        97             87000.00   \n",
       "2            37375.46                        53           1020883.70   \n",
       "3             4000.00                         1             76946.96   \n",
       "4           338470.29                        60            442100.00   \n",
       "\n",
       "   total credit transactions  TAR_Desc  \n",
       "0                         65         0  \n",
       "1                         10         1  \n",
       "2                         27         2  \n",
       "3                         12         1  \n",
       "4                         21         1  "
      ]
     },
     "execution_count": 11,
     "metadata": {},
     "output_type": "execute_result"
    }
   ],
   "source": [
    "X = data\n",
    "X = X.drop('Status',axis = 1)\n",
    "X.head()"
   ]
  },
  {
   "cell_type": "code",
   "execution_count": 12,
   "metadata": {},
   "outputs": [
    {
     "data": {
      "text/html": [
       "<div>\n",
       "<style scoped>\n",
       "    .dataframe tbody tr th:only-of-type {\n",
       "        vertical-align: middle;\n",
       "    }\n",
       "\n",
       "    .dataframe tbody tr th {\n",
       "        vertical-align: top;\n",
       "    }\n",
       "\n",
       "    .dataframe thead th {\n",
       "        text-align: right;\n",
       "    }\n",
       "</style>\n",
       "<table border=\"1\" class=\"dataframe\">\n",
       "  <thead>\n",
       "    <tr style=\"text-align: right;\">\n",
       "      <th></th>\n",
       "      <th>Status</th>\n",
       "    </tr>\n",
       "  </thead>\n",
       "  <tbody>\n",
       "    <tr>\n",
       "      <td>0</td>\n",
       "      <td>0</td>\n",
       "    </tr>\n",
       "    <tr>\n",
       "      <td>1</td>\n",
       "      <td>0</td>\n",
       "    </tr>\n",
       "    <tr>\n",
       "      <td>2</td>\n",
       "      <td>0</td>\n",
       "    </tr>\n",
       "    <tr>\n",
       "      <td>3</td>\n",
       "      <td>0</td>\n",
       "    </tr>\n",
       "    <tr>\n",
       "      <td>4</td>\n",
       "      <td>0</td>\n",
       "    </tr>\n",
       "  </tbody>\n",
       "</table>\n",
       "</div>"
      ],
      "text/plain": [
       "   Status\n",
       "0       0\n",
       "1       0\n",
       "2       0\n",
       "3       0\n",
       "4       0"
      ]
     },
     "execution_count": 12,
     "metadata": {},
     "output_type": "execute_result"
    }
   ],
   "source": [
    "y = pd.DataFrame(data['Status'])\n",
    "y.head()"
   ]
  },
  {
   "cell_type": "code",
   "execution_count": 13,
   "metadata": {},
   "outputs": [],
   "source": [
    "from sklearn.model_selection import train_test_split\n",
    "X_train,X_test,y_train,y_test = train_test_split(X,y,test_size = 0.2,random_state=13)"
   ]
  },
  {
   "cell_type": "code",
   "execution_count": 14,
   "metadata": {},
   "outputs": [],
   "source": [
    "#from sklearn.linear_model import LinearRegression\n",
    "from sklearn.linear_model import LogisticRegression\n",
    "\n",
    "reg = LogisticRegression(class_weight= {0:1,1:3})\n",
    "\n",
    "reg.fit(X_train,y_train)"
   ]
  },
  {
   "cell_type": "code",
   "execution_count": 17,
   "metadata": {},
   "outputs": [],
   "source": [
    "pred = reg.predict(X_test)"
   ]
  },
  {
   "cell_type": "code",
   "execution_count": 18,
   "metadata": {},
   "outputs": [
    {
     "data": {
      "text/plain": [
       "array([0, 1, 0, 1, 0, 1, 0, 0, 1, 0, 0, 0, 0, 0, 0, 0, 0, 0, 0, 1, 0, 0,\n",
       "       0, 0, 1, 1, 0, 0, 0, 1, 0, 1, 0, 0, 1, 0, 0, 0, 0, 0, 0, 0, 1, 1,\n",
       "       0, 0, 0, 0, 1, 0, 0, 1, 0, 0, 0, 0, 0, 0, 0, 0, 0, 0, 0, 0, 0, 0,\n",
       "       0, 0, 1, 0, 0, 0, 0, 0, 1, 0, 0, 0, 0, 1, 0, 1, 1, 1, 1, 1, 0, 0,\n",
       "       0, 0, 0, 0, 0, 1, 0, 0, 0, 1, 0, 1, 0, 1, 1, 0, 0, 0, 0, 0, 0, 0,\n",
       "       0, 0, 0, 0, 0, 0, 0, 0, 0, 0, 1, 0, 0, 0, 0, 0, 0, 0, 1, 0, 0, 1,\n",
       "       1, 0, 0, 0, 1, 0, 1, 1, 1, 0, 0, 0, 0, 0, 0, 0, 1, 0, 0, 0, 0, 0,\n",
       "       1, 0, 1, 0, 0, 0, 0, 0, 0, 0, 0, 0, 0, 0, 0, 0, 0, 1, 0, 0, 1, 0,\n",
       "       1, 0, 1, 0, 0, 0, 0, 0, 0, 0, 1, 1, 0, 0, 0, 0, 0, 0, 0, 0, 0, 0,\n",
       "       0, 0, 0, 1, 0, 0, 0, 0, 1, 1, 0, 0, 0, 1, 0, 1, 1, 1, 0, 0, 1, 0,\n",
       "       1, 0, 0, 0, 0, 1, 0, 0, 0, 0, 0, 0, 0, 0, 1, 0, 0, 0, 0, 0, 1, 0,\n",
       "       0, 0, 1, 0, 0, 0, 0, 0])"
      ]
     },
     "execution_count": 18,
     "metadata": {},
     "output_type": "execute_result"
    }
   ],
   "source": [
    "pred\n"
   ]
  },
  {
   "cell_type": "code",
   "execution_count": 19,
   "metadata": {},
   "outputs": [],
   "source": [
    "from sklearn.metrics import accuracy_score"
   ]
  },
  {
   "cell_type": "code",
   "execution_count": 20,
   "metadata": {},
   "outputs": [
    {
     "data": {
      "text/plain": [
       "0.824"
      ]
     },
     "execution_count": 20,
     "metadata": {},
     "output_type": "execute_result"
    }
   ],
   "source": [
    "accuracy_score(y_test,pred)"
   ]
  },
  {
   "cell_type": "code",
   "execution_count": 21,
   "metadata": {},
   "outputs": [
    {
     "data": {
      "text/plain": [
       "array([[177,  28],\n",
       "       [ 16,  29]], dtype=int64)"
      ]
     },
     "execution_count": 21,
     "metadata": {},
     "output_type": "execute_result"
    }
   ],
   "source": [
    "from sklearn.metrics import confusion_matrix,classification_report\n",
    "confusion_matrix(y_test,pred)"
   ]
  },
  {
   "cell_type": "code",
   "execution_count": 22,
   "metadata": {},
   "outputs": [
    {
     "name": "stdout",
     "output_type": "stream",
     "text": [
      "              precision    recall  f1-score   support\n",
      "\n",
      "           0       0.92      0.86      0.89       205\n",
      "           1       0.51      0.64      0.57        45\n",
      "\n",
      "    accuracy                           0.82       250\n",
      "   macro avg       0.71      0.75      0.73       250\n",
      "weighted avg       0.84      0.82      0.83       250\n",
      "\n"
     ]
    }
   ],
   "source": [
    "print(classification_report(y_test,pred))"
   ]
  },
  {
   "cell_type": "code",
   "execution_count": 23,
   "metadata": {},
   "outputs": [
    {
     "data": {
      "text/plain": [
       "0    205\n",
       "1     45\n",
       "Name: Status, dtype: int64"
      ]
     },
     "execution_count": 23,
     "metadata": {},
     "output_type": "execute_result"
    }
   ],
   "source": [
    "y_test['Status'].value_counts()"
   ]
  },
  {
   "cell_type": "code",
   "execution_count": 24,
   "metadata": {},
   "outputs": [],
   "source": [
    "import pickle\n",
    "\n",
    "pickle.dump(reg, open(\"reg.pkl\", \"wb\"))\n",
    "\n",
    "model = pickle.load(open(\"reg.pkl\", \"rb\"))"
   ]
  },
  {
   "cell_type": "code",
   "execution_count": null,
   "metadata": {},
   "outputs": [],
   "source": []
  }
 ],
 "metadata": {
  "kernelspec": {
   "display_name": "Python 3",
   "language": "python",
   "name": "python3"
  },
  "language_info": {
   "codemirror_mode": {
    "name": "ipython",
    "version": 3
   },
   "file_extension": ".py",
   "mimetype": "text/x-python",
   "name": "python",
   "nbconvert_exporter": "python",
   "pygments_lexer": "ipython3",
   "version": "3.8.3"
  }
 },
 "nbformat": 4,
 "nbformat_minor": 2
}
